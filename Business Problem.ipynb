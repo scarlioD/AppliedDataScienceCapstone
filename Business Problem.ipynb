{
 "cells": [
  {
   "cell_type": "markdown",
   "metadata": {},
   "source": [
    "<h1>Business Problem</h1>"
   ]
  },
  {
   "cell_type": "markdown",
   "metadata": {},
   "source": [
    "In this section I am going to discuss my idea for the Capstone project"
   ]
  },
  {
   "cell_type": "markdown",
   "metadata": {},
   "source": [
    "<h2>Location of Interest</h2>"
   ]
  },
  {
   "cell_type": "markdown",
   "metadata": {},
   "source": [
    "First of all I would like to introduce the location of Interest I chose for my project. The business idea will be developed on the city of Salerno (Italy) and its neighborhoods. Salerno is my hometown, I chose it because I know it well and I can help with results interpretation. The city is quite small so I am going to take in account some near places. This area is suitable for my goal because tourism is a great source of income and the amount of places will provide an interesting scenario to study"
   ]
  },
  {
   "cell_type": "markdown",
   "metadata": {},
   "source": [
    "<h2>A tourist guide made with unsupervised machine learning tecnicques</h2>"
   ]
  },
  {
   "cell_type": "markdown",
   "metadata": {},
   "source": [
    "The idea is to create a tourist guide using geodata and machine learning. I am going to cluster the area in order to find the places more suitable for every need, cluster them and then make a comparison between the logical clusters and the geographical area. \n",
    "\n",
    "The goal is to create list of clusters grouped by most common venuetypes and where they are located.\n",
    "\n",
    "<i>Example</i>\n",
    "\n",
    "<blockquote>Suppose you are visiting the city and you want to eat a pizza you can check the clusters in order to find how the Pizza Places are distributed</blockquote> "
   ]
  },
  {
   "cell_type": "code",
   "execution_count": null,
   "metadata": {},
   "outputs": [],
   "source": []
  }
 ],
 "metadata": {
  "kernelspec": {
   "display_name": "Python 3",
   "language": "python",
   "name": "python3"
  },
  "language_info": {
   "codemirror_mode": {
    "name": "ipython",
    "version": 3
   },
   "file_extension": ".py",
   "mimetype": "text/x-python",
   "name": "python",
   "nbconvert_exporter": "python",
   "pygments_lexer": "ipython3",
   "version": "3.8.5"
  }
 },
 "nbformat": 4,
 "nbformat_minor": 4
}
